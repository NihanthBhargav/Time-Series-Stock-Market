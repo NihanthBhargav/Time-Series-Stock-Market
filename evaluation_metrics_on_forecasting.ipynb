{
 "cells": [
  {
   "cell_type": "markdown",
   "id": "2121adc3",
   "metadata": {},
   "source": [
    "## Evaluation Metrics on Forecasting"
   ]
  },
  {
   "cell_type": "code",
   "execution_count": 1,
   "id": "664ba5b7",
   "metadata": {},
   "outputs": [
    {
     "name": "stdout",
     "output_type": "stream",
     "text": [
      "\n",
      "Model Evaluation (Future Forecasts):\n",
      "\n",
      "              MAE        MSE      RMSE\n",
      "ARIMA         NaN        NaN       NaN\n",
      "SARIMA        NaN        NaN       NaN\n",
      "Prophet  5.563332  58.477335  7.647047\n",
      "LSTM          NaN        NaN       NaN\n",
      "\n",
      "Saved metrics to 'Models/future_evaluation.csv'\n"
     ]
    }
   ],
   "source": [
    "import pandas as pd\n",
    "import numpy as np\n",
    "from sklearn.metrics import mean_absolute_error, mean_squared_error\n",
    "\n",
    "df = pd.read_csv(\"AAPL_clean.csv\", parse_dates=['Date'])\n",
    "df.set_index('Date', inplace=True)\n",
    "\n",
    "arima_future = pd.read_csv(\"Models/future_arima.csv\", parse_dates=['Date'], index_col='Date')\n",
    "sarima_future = pd.read_csv(\"Models/future_sarima.csv\", parse_dates=['Date'], index_col='Date')\n",
    "prophet_future = pd.read_csv(\"Models/future_prophet.csv\", parse_dates=['Date'], index_col='Date')\n",
    "lstm_future = pd.read_csv(\"Models/future_lstm.csv\", parse_dates=['Date'], index_col='Date')\n",
    "\n",
    "results = {}\n",
    "for name, forecast in zip(\n",
    "    ['ARIMA', 'SARIMA', 'Prophet', 'LSTM'],\n",
    "    [arima_future, sarima_future, prophet_future, lstm_future]\n",
    "):\n",
    "    actual = df['Close'].reindex(forecast.index).dropna()\n",
    "    preds = forecast['Forecast'].reindex(actual.index)\n",
    "    \n",
    "    if len(actual) > 0:\n",
    "        mae = mean_absolute_error(actual, preds)\n",
    "        mse = mean_squared_error(actual, preds)\n",
    "        rmse = np.sqrt(mse)\n",
    "        results[name] = {\"MAE\": mae, \"MSE\": mse, \"RMSE\": rmse}\n",
    "    else:\n",
    "        results[name] = {\"MAE\": np.nan, \"MSE\": np.nan, \"RMSE\": np.nan}\n",
    "\n",
    "comparison_df = pd.DataFrame(results).T\n",
    "print(\"\\nModel Evaluation (Future Forecasts):\\n\")\n",
    "print(comparison_df)\n",
    "\n",
    "comparison_df.to_csv(\"Models/future_evaluation.csv\")\n",
    "print(\"\\nSaved metrics to 'Models/future_evaluation.csv'\")"
   ]
  }
 ],
 "metadata": {
  "kernelspec": {
   "display_name": "Python 3",
   "language": "python",
   "name": "python3"
  },
  "language_info": {
   "codemirror_mode": {
    "name": "ipython",
    "version": 3
   },
   "file_extension": ".py",
   "mimetype": "text/x-python",
   "name": "python",
   "nbconvert_exporter": "python",
   "pygments_lexer": "ipython3",
   "version": "3.11.4"
  }
 },
 "nbformat": 4,
 "nbformat_minor": 5
}
