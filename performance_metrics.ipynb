{
 "cells": [
  {
   "cell_type": "markdown",
   "id": "766d2df4",
   "metadata": {},
   "source": [
    "## Performance Metrics"
   ]
  },
  {
   "cell_type": "code",
   "execution_count": 4,
   "id": "dceb5853",
   "metadata": {},
   "outputs": [
    {
     "name": "stdout",
     "output_type": "stream",
     "text": [
      "\n",
      " Model Performance (Last 30 Days)\n",
      "               MAE       RMSE      MAPE\n",
      "ARIMA    10.556540  13.431675  4.494874\n",
      "SARIMA   10.556540  13.431675  4.494874\n",
      "LSTM     11.650773  14.631819  4.959445\n",
      "Prophet  12.700690  14.734440  5.122084\n"
     ]
    }
   ],
   "source": [
    "import pandas as pd\n",
    "import numpy as np\n",
    "from sklearn.metrics import mean_squared_error, mean_absolute_error\n",
    "\n",
    "df = pd.read_csv(\"AAPL_clean.csv\", parse_dates=['Date'])\n",
    "df.set_index('Date', inplace=True)\n",
    "\n",
    "train = df.iloc[:-30]\n",
    "test = df.iloc[-30:]\n",
    "\n",
    "def load_forecast(path):\n",
    "    df = pd.read_csv(path, parse_dates=['Date'])\n",
    "    df['Forecast'] = pd.to_numeric(df['Forecast'], errors='coerce')\n",
    "    return df\n",
    "\n",
    "arima = load_forecast(\"Models/future_arima.csv\")\n",
    "sarima = load_forecast(\"Models/future_sarima.csv\")\n",
    "prophet = load_forecast(\"Models/future_prophet.csv\")\n",
    "lstm = load_forecast(\"Models/future_lstm.csv\")\n",
    "\n",
    "test_dates = test.index[:30]\n",
    "test_values = test['Close'].astype(float).values   \n",
    "\n",
    "models = {\n",
    "    \"ARIMA\": arima['Forecast'][:30].astype(float).values,\n",
    "    \"SARIMA\": sarima['Forecast'][:30].astype(float).values,\n",
    "    \"Prophet\": prophet['Forecast'][:30].astype(float).values,\n",
    "    \"LSTM\": lstm['Forecast'][:30].astype(float).values\n",
    "}\n",
    "\n",
    "def mean_absolute_percentage_error(y_true, y_pred): \n",
    "    y_true = np.array(y_true, dtype=float)  \n",
    "    y_pred = np.array(y_pred, dtype=float)\n",
    "    return np.mean(np.abs((y_true - y_pred) / y_true)) * 100\n",
    "\n",
    "metrics = {}\n",
    "for model, preds in models.items():\n",
    "    mae = mean_absolute_error(test_values, preds)\n",
    "    rmse = np.sqrt(mean_squared_error(test_values, preds))\n",
    "    mape = mean_absolute_percentage_error(test_values, preds)\n",
    "    metrics[model] = {\"MAE\": mae, \"RMSE\": rmse, \"MAPE\": mape}\n",
    "\n",
    "metrics_df = pd.DataFrame(metrics).T\n",
    "metrics_df = metrics_df.sort_values(\"RMSE\")\n",
    "\n",
    "print(\"\\n Model Performance (Last 30 Days)\")\n",
    "print(metrics_df)\n"
   ]
  }
 ],
 "metadata": {
  "kernelspec": {
   "display_name": "Python 3",
   "language": "python",
   "name": "python3"
  },
  "language_info": {
   "codemirror_mode": {
    "name": "ipython",
    "version": 3
   },
   "file_extension": ".py",
   "mimetype": "text/x-python",
   "name": "python",
   "nbconvert_exporter": "python",
   "pygments_lexer": "ipython3",
   "version": "3.11.4"
  }
 },
 "nbformat": 4,
 "nbformat_minor": 5
}
