{
 "cells": [
  {
   "cell_type": "code",
   "execution_count": 1,
   "id": "ff041d08",
   "metadata": {},
   "outputs": [
    {
     "name": "stderr",
     "output_type": "stream",
     "text": [
      "C:\\Users\\bollejayanthsriteja\\AppData\\Local\\Temp\\ipykernel_7476\\2336066546.py:10: FutureWarning: YF.download() has changed argument auto_adjust default to True\n",
      "  df = yf.download(stock_symbol, start=start_date, end=end_date)\n",
      "[*********************100%***********************]  1 of 1 completed"
     ]
    },
    {
     "name": "stdout",
     "output_type": "stream",
     "text": [
      "CSV file 'AAPL_clean.csv' saved successfully!\n"
     ]
    },
    {
     "name": "stderr",
     "output_type": "stream",
     "text": [
      "\n",
      "C:\\Users\\bollejayanthsriteja\\AppData\\Local\\Temp\\ipykernel_7476\\2336066546.py:12: FutureWarning: DataFrame.fillna with 'method' is deprecated and will raise in a future version. Use obj.ffill() or obj.bfill() instead.\n",
      "  df.fillna(method='ffill', inplace=True)\n"
     ]
    }
   ],
   "source": [
    "import yfinance as yf\n",
    "import pandas as pd\n",
    "\n",
    "# Stock selection and date range\n",
    "stock_symbol = \"AAPL\"  # Change this to any stock symbol you want\n",
    "start_date = \"2015-01-01\"\n",
    "end_date = \"2024-12-31\"\n",
    "\n",
    "# Download the data\n",
    "df = yf.download(stock_symbol, start=start_date, end=end_date)\n",
    "df.reset_index(inplace=True)\n",
    "df.fillna(method='ffill', inplace=True)\n",
    "\n",
    "# Add your custom file name here\n",
    "csv_file_name = \"AAPL_clean.csv\"  \n",
    "\n",
    "# Save to CSV\n",
    "df.to_csv(csv_file_name, index=False)\n",
    "\n",
    "print(f\"CSV file '{csv_file_name}' saved successfully!\")\n"
   ]
  }
 ],
 "metadata": {
  "kernelspec": {
   "display_name": "Python 3",
   "language": "python",
   "name": "python3"
  },
  "language_info": {
   "codemirror_mode": {
    "name": "ipython",
    "version": 3
   },
   "file_extension": ".py",
   "mimetype": "text/x-python",
   "name": "python",
   "nbconvert_exporter": "python",
   "pygments_lexer": "ipython3",
   "version": "3.11.4"
  }
 },
 "nbformat": 4,
 "nbformat_minor": 5
}
